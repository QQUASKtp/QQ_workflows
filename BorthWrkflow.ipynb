{
 "cells": [
  {
   "cell_type": "markdown",
   "metadata": {},
   "source": [
    "## Cors Fochno Structure from Motion (SfM) workflow\n",
    "----------------------\n",
    "\n",
    "The following workflow demonstrates the SfM process using open-source libs on data recently collected over a SSSI nature reserve called Cors Fochno in Mid Wales. This assumes basic knowledge of python and GIS usage.\n",
    "\n",
    "This dataset consists of 171 RGB images captured using the Micasense Red Edge platform over a woodland on the edge of the Cors Fochno SSSI site, near Borth, Ceredigion. As well as the photos, a csv log of the photo capture GPS is included with the columns **#F=N X Y Z**, where the **#F** is the file name and the remainder (**X Y Z**) the coordinates. \n",
    "\n",
    "The following simple example uses the pycmac modules, culminating in the use of the Malt dense matching algorithm to produce a DSM and ortho-photos. Micmac has two dense matching implementations (Malt and PIMs), each with various modes and parameters.\n",
    "\n",
    "Dependencies:\n",
    "\n",
    "The scripts available in the UAS_SFM github site. \n",
    "\n",
    "QGIS 3 offers a versatile platform for this purpose for the final datasets, so please ensure this is installed. Once installed, install the HCMGIS plugin to use various web-based base-layers for visualisation purposes.\n",
    "\n",
    "\n",
    "Installation of pdal **may** require a conda environment, so remember to change kernel at the appropriate point.\n",
    "\n",
    "Assumed knowledge:\n",
    "\n",
    "Basic GIS, image processing, remote sensing and command line use\n",
    "\n",
    "Remember to query function args open a new cell (the plus icon) and write the function with a question mark - i.e\n",
    "\n",
    "feature_match?\n",
    "\n",
    "Data\n",
    "\n",
    "The data is temporarily found in this google drive folder until QinetiQ find somewhere to store it.\n",
    "\n",
    "https://drive.google.com/file/d/1hchKEW7XZRtuY-JpL1fSAs1GFgNhrNb9/view?usp=sharing\n",
    "\n",
    "The file required is Woods.zip - extract this somewhere appropriate and change dir to this folder.\n",
    "\n",
    "This contains:\n",
    "\n",
    "- a collection of 3-band tif images\n",
    "- woods.csv (the main GPS log)\n",
    "- sub.csv (a lens caslibration subset)\n",
    "\n"
   ]
  },
  {
   "cell_type": "markdown",
   "metadata": {},
   "source": [
    "### Workflow for creating a manually-defined subset\n",
    "\n",
    "When faced with 100+ images, creating a calibration subset is best practice to speed up the orientation process. The following will create a manually defined subset using spatial data provided. It is better to define a subset by spatial properties than manually sifting through raw images. \n",
    "\n",
    "\n",
    "Import the UAV GPS ```woods.csv``` into QGIS using the delimited text file option, choose the appropriate delimiter and columns (space or tab). QGIS may look slightly different depending on whether you are using GNU/Linux, Mac or Windows but the functionality is the same. Use the selection tool to demarcate GPS points to create a subset. \n",
    "\n",
    "To select a subset, click on the select button and draw a polygon around the desired points which will turn yellow (see top left in the pic below). The location of each photo capture will be displayed as a point. If you have QGIS 3, for a google satellite background here install the HCMGIS plugin, otherwise the open-layers and Google earth view can be used in conjuction below.\n",
    "\n",
    "<img src=\"Figures/QGIS.png\" style=\"height:500px\">\n",
    "\n",
    "For a base map, install the open web map or open layers plugins (displayed is an open street map base map). Untick the base map layer and click on GEarthView (the icon below will be somewhere on your QGIS toolbar).\n",
    "\n",
    "<img src=\"https://plugins.qgis.org/static/cache/7a/2b/7a2bc2eb1ff859db7f06845384276481.png\" style=\"height:30px\">\n",
    "\n",
    "We can see by cross comparing with the QGIS selection is over an area of good topographic variability, which is important for a good calibration initialisation. \n",
    "\n",
    "**Ideally, a set of oblique images around the corner of an object (a building or similar) is ideal for the calibration subset** and where this is possible it should be used. However, with a fixed wing and nadir only imagery and nature of this site we do not have this luxury. In this instance then, an area of **variable topography with well connected imagery** is the next best thing. This is in order to attempt to satisfy the following:\n",
    "\n",
    "- images convergent on same part of the scene,to facilitate the computation of the external orientation\n",
    "- a scene with sufficient depth variation, for accurate focal length estimation\n",
    "- overlapping images with common features in different positions, to have an accurate estimation of distortion\n",
    "\n",
    "Next, right click on the .csv in layer properties and select ‘Save As’. Enter the name of the.csv to save ensuring the format dialogue is set to csv. \n",
    "\n",
    "<img src=\"Figures/GEView.jpg\" style=\"height:500px\">\n",
    "\n",
    "The default separator of comma is recommended to use. Once set, click OK to save the “calib.csv”. \n",
    "Now the calibration subset can be used in the SfM process. \n"
   ]
  },
  {
   "cell_type": "markdown",
   "metadata": {},
   "source": [
    "### Feature detection, matching and orientation\n",
    "\n",
    "First, the image coordinates are used to establish image pairs likely to overlap in order to detect features common to the overlapping images, which are later used to estimate the image poses in 3D space.\n",
    "\n",
    "\n",
    "The following command performs the calibration, relative orientation and GPS-aided bundle adjustment. This may take a little while to run. \n",
    "\n",
    "Note the use of...\n",
    "\n",
    "```bash \n",
    "-s calb.csv\n",
    "```  \n",
    "... the subset for the initial calibration. \n",
    "\n",
    "\n",
    "The Fraser lens distortion model is used and is the most sophisticated available with MicMac and generally returns the lowest RMSE.\n"
   ]
  },
  {
   "cell_type": "code",
   "execution_count": 6,
   "metadata": {},
   "outputs": [],
   "source": [
    "Orientation.sh -e tif -u \"30 +north\" -c Fraser -t \"woods.csv\" -s \"calib.csv\" "
   ]
  },
  {
   "cell_type": "markdown",
   "metadata": {},
   "source": [
    "An output text may be seen documentating the iterative refinement of camera poses until completion.\n",
    "Upon inspection of the “FraserGPSlog.txt” file in the working directory, we will see this near the bottom of the text.\n",
    "\n",
    "```bash\n",
    "| |  Residual = 0.429504 ;; Evol, Moy=2.74582e-07 ,Max=3.55555e-06\n",
    "| |  Worst, Res 0.717166 for IMG_1305_RGB.tif,  Perc 98.1356 for IMG_1333_RGB.tif\n",
    "| |  Cond , Aver 6.75509 Max 59.0378 Prop>100 0\n",
    "CENTRE MEDIAN = [-0.290686,0.0135017,0.0115896]\n",
    "--- End Iter 8 STEP 0\n",
    "```\n",
    "The text above  is the RMSE for the bundle adjustment ( ```Residual = 0.429504```), which, in this case is approximately 0.4 pixels.\n",
    "\n",
    "\n",
    "**Alternatively it is possible to omit the calibration subset and allow MicMac's automated intialisation to do this for you by a quick orientation without radial distortion etc. which is then fed to the global orientation.**\n",
    "\n",
    "```bash\n",
    "Orientation.sh -e tif -u \"30 +north\" -c Fraser -t \"woods.csv\" \n",
    "```"
   ]
  },
  {
   "cell_type": "code",
   "execution_count": null,
   "metadata": {},
   "outputs": [],
   "source": [
    "Orientation.sh -e tif -u \"30 +north\" -c Fraser -t \"woods.csv\" "
   ]
  },
  {
   "cell_type": "markdown",
   "metadata": {},
   "source": [
    "### Dense matching and outputs\n",
    "\n",
    "Having completed the bundle adjustment phase, we can execute the dense matching algorithm. We will use the Malt-based algorithm in Ortho mode as this is generally most effective on mixed terrain and for producing high quality ortho-photos. \n",
    "\n",
    "\n",
    "**This dense matching can be executed using the bash script dense_cloud.sh with the following**\n",
    "\n",
    "```bash\n",
    "dense_cloud.sh -e tif -a Ortho -m Malt -u \"30 +north\" -i 1\n",
    "```"
   ]
  },
  {
   "cell_type": "code",
   "execution_count": null,
   "metadata": {},
   "outputs": [],
   "source": [
    "dense_cloud.sh -e tif -a Ortho -m Malt -u \"30 +north\" -i 0"
   ]
  },
  {
   "cell_type": "markdown",
   "metadata": {},
   "source": [
    "### Mosaicking\n",
    "\n",
    "After processing the working directory a Malt directory with an OUTPUT directory containing the DSM and orthomosaic, which will have been masked to include only valid pixels. \n",
    "\n",
    "There is no hard/fast rule for ortho-mosaicking, and experimentation may often be required. \n",
    "\n",
    "The default execution with the tawny function, will output a mosaic which will attempt to radiometrically equalise the mosaic.\n",
    "\n",
    "Look at the first result in QGIS, which should like the one below!\n"
   ]
  },
  {
   "cell_type": "markdown",
   "metadata": {},
   "source": [
    "As can be seen below there are seamlines (a patchwork effect) between the individual ortho-photos that make up the mosaic, due to uneven illumination conditions.\n",
    "\n",
    "<img src=\"Figures/NoEgal.png\" style=\"height:500px\">\n",
    "\n",
    "Hence, some radiometric equalisation will be required."
   ]
  },
  {
   "cell_type": "code",
   "execution_count": null,
   "metadata": {},
   "outputs": [],
   "source": [
    "mm3d Tawny Ortho-MEC-Malt RadiomEgal=1 Out=MoasaicNoEgal.tif;\n",
    "\n",
    "# admin to get it to the output folder\n",
    "cp Ortho-MEC-Malt/MoasaicNoEgal.tif OUTPUT/MoasaicNoEgal.tif;\n",
    "cp Ortho-MEC-Malt/Orthophotomosaic.tfw OUTPUT/MoasaicNoEgal.tfw;\n"
   ]
  },
  {
   "cell_type": "markdown",
   "metadata": {},
   "source": [
    "As can be seen below, the seamlines have disappeared but there now appears to be a radiometric drift in the mosaic with light and dark areas in a pattern. \n",
    "\n",
    "<img src=\"Figures/Egal1.png\" style=\"height:500px\">\n",
    "\n",
    "The imagery trends from dark to light across the image and is not satisfactory as an output, hence further experimentation is required."
   ]
  },
  {
   "cell_type": "markdown",
   "metadata": {},
   "source": [
    "With default radiometric equalisation a radiometric drift is apparent in the ortho-mosaic, hence further experimentation is required.\n",
    "The parameter\n",
    "```python\n",
    "DegRap=4\n",
    "```\n",
    "Fixes the degree of the global polynomial used in the radiometric equalisation and may reduce the drift."
   ]
  },
  {
   "cell_type": "code",
   "execution_count": null,
   "metadata": {},
   "outputs": [],
   "source": [
    "mm3d Tawny Ortho-MEC-Malt DegRap=4 Out=MoasaicRap4.tif;\n",
    "\n",
    "# admin to get it to the output folder\n",
    "cp Ortho-MEC-Malt/MoasaicNoEgal.tif OUTPUT/MoasaicRap4.tif;\n",
    "cp Ortho-MEC-Malt/Orthophotomosaic.tfw OUTPUT/MoasaicRap4.tif;\n"
   ]
  },
  {
   "cell_type": "markdown",
   "metadata": {},
   "source": [
    "As can be seem below, this parameter change appears to have had the desired effect and illumination is now near uniform (excluding the water where there is no 'real' incidence).\n",
    "\n",
    "<img src=\"Figures/DegRap4.png\" style=\"height:500px\">\n",
    "\n",
    "There are seamlines visible some of the water areas, but this is not of concern as this is rarely the main of object of interest with UAV imagery particulalry as water by its nature is not useful for photogrammetry."
   ]
  },
  {
   "cell_type": "markdown",
   "metadata": {},
   "source": [
    "A further option is to use feather mosaicking which occasionally may prove to be the best option, though there may be a loss of clarity in places. "
   ]
  },
  {
   "cell_type": "code",
   "execution_count": null,
   "metadata": {},
   "outputs": [],
   "source": [
    "orthomosaic.sh -f Ortho-MEC-Malt -u '30 +north' -t ossimFeatherMosaic -o OUTPUT/feathermosaic.tif"
   ]
  },
  {
   "cell_type": "markdown",
   "metadata": {},
   "source": [
    "Look closely at the imagery and compare to the previous result. It is likely the previous is the best compromise....\n",
    "\n",
    "<img src=\"Figures/Featherossim.png\" style=\"height:500px\">\n"
   ]
  },
  {
   "cell_type": "code",
   "execution_count": null,
   "metadata": {},
   "outputs": [],
   "source": []
  }
 ],
 "metadata": {
  "kernelspec": {
   "display_name": "Python [conda env:geolearn] *",
   "language": "python",
   "name": "conda-env-geolearn-py"
  },
  "language_info": {
   "codemirror_mode": {
    "name": "ipython",
    "version": 3
   },
   "file_extension": ".py",
   "mimetype": "text/x-python",
   "name": "python",
   "nbconvert_exporter": "python",
   "pygments_lexer": "ipython3",
   "version": "3.7.8"
  }
 },
 "nbformat": 4,
 "nbformat_minor": 2
}
