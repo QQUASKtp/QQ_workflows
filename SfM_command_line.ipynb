{
 "cells": [
  {
   "cell_type": "markdown",
   "metadata": {},
   "source": [
    "## Using the MicMac command line scripts for Structure from Motion\n",
    "----------------------\n",
    "\n",
    "The following workflow demonstrates SfM on small dataset using some custom scripts in the **B**orne **A**gain **Sh**ell.\n",
    "\n",
    "**Dependencies:**\n",
    "\n",
    "An installation of MicMac and gdal.\n",
    "    \n",
    "The scripts site below with everything on your system path.\n",
    "\n",
    "https://github.com/Ciaran1981/Sfm\n",
    "\n",
    "You will need to install this python module to run bash commands without constant exclamation marks\n",
    "\n",
    "```bash\n",
    "pip install bash_kernel\n",
    "\n",
    "python -m bash_kernel.install\n",
    "\n",
    "```\n",
    "\n",
    "QGIS 3 offers a versatile to visualise results so please ensure this is installed. Once installed, install the HCMGIS plugin to use various web-based base-layers for visualisation purposes. \n",
    "\n",
    "**Assumed knowledge:**\n",
    "\n",
    "Basic GIS, basic image processing, remote sensing,and BASH use.\n",
    "\n",
    "**The Data**\n",
    "\n",
    "A subset of a larger dataset collected over an estuary in North Wales. The photos are accompanied by a csv file containing the GPS coordinates of each photo capture and a smaller subset for camera calibration. \n",
    "\n",
    "The data is temporarily found in this google drive folder until QinetiQ find somewhere to store it.\n",
    "\n",
    "https://drive.google.com/open?id=1eM5pwMMwLSzp7S3fr-NJr6pzDi3tD0n3\n",
    "\n",
    "The file required is **boatsorig.zip** - extract this somewhere appropriate and change dir to this folder.\n",
    "\n",
    "This contains: \n",
    "\n",
    "- a collection of JPG photos\n",
    "- boats.csv (GPS log)\n",
    "- sub.csv (GPS subset for lens calibration)\n",
    "\n",
    "**Lastlty**\n",
    "\n",
    "If you wish to run every MicMac command a detailed account is given in the Sfm_guide.pdf in the Sfm repository. Otherwise, have a look at the content of the scripts themselves.\n"
   ]
  },
  {
   "cell_type": "markdown",
   "metadata": {},
   "source": [
    "First we will change directory to where the photos are. The terminal will return the folder name so you can be sure!"
   ]
  },
  {
   "cell_type": "code",
   "execution_count": 1,
   "metadata": {},
   "outputs": [],
   "source": [
    "cd /path/to/folder\n"
   ]
  },
  {
   "cell_type": "markdown",
   "metadata": {},
   "source": [
    "### Orientation.sh\n",
    "We will now run the first script which is named Orientation.sh and performs the feature detection, matching, orientation and GPS-aided bundle adjustment. The script has a few arguments - some mandatory others optional. \n",
    "\n",
    "- -e : image extenstion/file type (JPG, jpg,tif, png..., default=JPG).\n",
    "- -u : UTM Zone of area of interest. Takes form 'NN +north(south)'\n",
    "- -s : resize of imagery eg - 2000\n",
    "- -c : Camera calibration model - e.g. RadialBasic, Fraser etc\n",
    "- -m : Whether to manually mask the sparse cloud (longer processing!)\n",
    "- -t : gps text file usually csv with mm3d formatting\n",
    "- -s : a subset gps csv for pre-calibration of orientation\n",
    "\n",
    "A typical usage is:\n",
    "\n",
    "```bash\n",
    "Orientation.sh -e JPG -u \"30 +north\" -c Fraser \"30 +north\" -t \"calib.csv\" -s \"sub.csv\" \n",
    "```\n",
    "If an argument is omitted it is not used as an option within the script. The UTM zone (-u) and file arguments (-t, -s) must be in quotes!\n",
    "\n",
    "This script (and every other) will present you with options as to whether you wish to continue based on the arguments you have given. This is to avoid frantically bashing ctrl-c to stop it if you forget something. \n",
    "\n",
    "The script can also be queried in the terminal as below.\n"
   ]
  },
  {
   "cell_type": "code",
   "execution_count": 2,
   "metadata": {},
   "outputs": [
    {
     "name": "stdout",
     "output_type": "stream",
     "text": [
      "Carry out feature extraction and orientation of images\n",
      "Usage: Orientation.sh -e JPG -u -c Fraser 30 +north -s sub.csv \n",
      "\t-e {EXTENSION}     : image file type (JPG, jpg, TIF, png..., default=JPG).\n",
      "\t-u UTMZONE       : UTM Zone of area of interest. Takes form 'NN +north(south)'\n",
      "\t-i SIZE         : resize of imagery eg - 2000\n",
      "\t-c CALIB        : Camera calibration model - e.g. RadialBasic, Fraser etc\n",
      "\t-m MASK        : Whether to manually mask the sparse cloud (longer processing!)\n",
      "    -t CSV        : text file usually csv with mm3d formatting\n",
      "    -s SUB        : a subset  csv for pre-calibration of orientation\n",
      "\t-h\t             : displays this message and exits.\n",
      " \n"
     ]
    }
   ],
   "source": [
    "Orientation.sh -h 1"
   ]
  },
  {
   "cell_type": "markdown",
   "metadata": {},
   "source": [
    "Run the script. perhaps best to go do something else at this point! A load of output nonsense will appear below but just ignore it for now. \n",
    "\n",
    "**You can omit the calibration subset as this not manadatory but illustrates the underlying process and may be a good option depending on time/dataset size constraints. Otherwize the MicMac Martini command is used to intialise the image block without radial distortion, which is then fed to the global orientation. This is internal to either python or bash-based methods.**\n",
    "\n",
    "Simply remove the -s arg if you wish to run it automated\n",
    "\n",
    "```bash\n",
    "Orientation.sh -e JPG -u \"30 +north\" -c Fraser \"30 +north\" -t \"calib.csv\" \n",
    "```"
   ]
  },
  {
   "cell_type": "code",
   "execution_count": null,
   "metadata": {},
   "outputs": [],
   "source": [
    "Orientation.sh -e JPG -u \"30 +north\" -c Fraser -t \"boats.csv\" -s \"sub.csv\" "
   ]
  },
  {
   "cell_type": "markdown",
   "metadata": {},
   "source": [
    "### dense_cloud.sh\n",
    "\n",
    "For the final outputs, we will run the dense_cloud script, which as the name suggests, produces the final point cloud, DSM and ortho-mosaic.\n",
    "\n",
    "The arguments are:\n",
    "\n",
    "- -e : image extenstion/file type \n",
    "- -u : UTM Zone of area of interest. \n",
    "- -a : type of algorithm eg Ortho, UrbanMNE for Malt or MicMac, BigMac, QuickMac, Forest, Statue \n",
    "- -m : mode either Malt pyramidal MVS or PIMs (per-image-matching)\n",
    "- -z : Last step in pyramidal dense correlation any of 1,2,3,4\n",
    "- -i : use radiometric equalisation during orthomosaic stage\n",
    "- -d : Degree of equalisation during orthomosaic stage\n",
    "- -n : Number of cores to use \n",
    "- -r : zreg term - context dependent - reguralisation term   \n",
    "- -o : do ortho -True or False  \n",
    "\n",
    "```bash\n",
    "dense_cloud.sh -e JPG -a Ortho -m Malt -u 30 +north -o true -i 1\n",
    "```\n",
    "We will omit some of these arguments as they are not usually required for good results. Of note here is that we specify -i as 1 to indicate radiometric equalisation to try and ensure even illumination in the mosaic. The ortho option is true by default.\n",
    "\n",
    "The output files will be in a folder called OUTPUT (funnily enough), you will be able to open the DSM, orthomosaic and correlation images. The correlation image is representative of the normalised cross-correlation co-efficient for each pixel resulting from the processing. This can be interpeted as a proxy indication of how confident we are of each pixel height. The more consistently high values - the better. "
   ]
  },
  {
   "cell_type": "code",
   "execution_count": null,
   "metadata": {},
   "outputs": [],
   "source": [
    "dense_cloud.sh -e JPG -a Ortho -m Malt -u 30 +north -i 1"
   ]
  },
  {
   "cell_type": "markdown",
   "metadata": {},
   "source": [
    "### Mosaicing alternatives\n",
    "\n",
    "You may note that the mosaic output could be better from an illumination persepective. There are lots of seamlines between tiles (despite equalisation) and local contrast variation. Perhaps the one shortcoming of MicMac is that the orthomosaic function (Tawny) does not blend the edges of the individual ortho-images. It relies on equalising  illumination across the tiles and on occasion, despite various parameter choices may not cut it due to radiometric drift etc. Bear in mind, most of the time it is fine - this dataset is slightly problemtatic in this respect.\n",
    "\n",
    "Whillst MicMac has an experimental seamline feathering command, it is at present slow to exectute and tends to deliver poorer results than the OSSIM version below. \n",
    "\n",
    "Likely the best open source implementation out there is that of the OSSIM library, but requires some script-based adaptation to work with MicMac outputs. It is the next script we will use. The script geo-refs all the individual orthos (the MicMac .tfw is insufficient for OSSIM to recognise the local projection), calculates their histograms then mosaics them.  \n",
    "\n",
    "It is worth bearing in mind however, that by blending seamlines in certain areas, there is the potential for introducing artifacts in the imagery - there always a trade off in this respect (though it is barely noticable).  \n",
    "\n",
    "The arguments for the script are:\n",
    "\n",
    "-  -f : MicMac working directory or Malt/PIMs ortho dir \n",
    "-  -u : UTM Zone of area of interest\n",
    "-  -m : whether to us maltbatch (bool) \n",
    "-  -p : whether to us pimsbatch (bool) \n",
    "-  -t : OSSIM mosaicing type  \n",
    "-  -o : Output mosaic \n",
    "\n",
    "```bash \n",
    "orthomosaic.sh -f $PWD -u \"30 +north\" -t ossimFeatherMosaic -o outmosaic.tif\n",
    "\n",
    "```\n",
    "This will take a little while...."
   ]
  },
  {
   "cell_type": "code",
   "execution_count": null,
   "metadata": {},
   "outputs": [],
   "source": [
    "orthomosaic.sh -f Ortho-MEC-Malt -u '30 +north' -t ossimFeatherMosaic -o OUTPUT/outmosaic.tif\n"
   ]
  },
  {
   "cell_type": "markdown",
   "metadata": {},
   "source": [
    "### Some final notes\n",
    "\n",
    "Here we have used the MicMac command line but as can be seen in the Sfm_guide.pdf, there are several software sources, which with tweaking will produce similar results - see Open Drone Map and Metashape as an example."
   ]
  },
  {
   "cell_type": "code",
   "execution_count": null,
   "metadata": {},
   "outputs": [],
   "source": []
  }
 ],
 "metadata": {
  "kernelspec": {
   "display_name": "Bash",
   "language": "bash",
   "name": "bash"
  },
  "language_info": {
   "codemirror_mode": "shell",
   "file_extension": ".sh",
   "mimetype": "text/x-sh",
   "name": "bash"
  }
 },
 "nbformat": 4,
 "nbformat_minor": 2
}
