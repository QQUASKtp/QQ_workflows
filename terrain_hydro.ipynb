{
 "cells": [
  {
   "cell_type": "markdown",
   "metadata": {},
   "source": [
    "### Terrain & hydro analysis\n",
    "\n",
    "The following workflow demonstrates a typical set of land surface parameters used in many environmental applications, particulalrly geomorphology, soil science and hydrology. These are just a few brief examples as there are so many elevation derivatives out there it is best to explore further dependent on the application.\n",
    "\n",
    "Likely the best resource on this is (albeit a bit old now.....):\n",
    "\n",
    "Hengl, T., & Reuter, H. I. (2009). Geomorphometry: Concepts, Software, Applications. (T. Hengl & H. I. Reuter, Eds.) (Vol. 33). Amsterdam: Elsevier.\n",
    "\n",
    "Elsewhere - this website \n",
    "http://www.geomorphometry.org/\n",
    "\n",
    "I personally used similar variables in paper during my PhD for semi-automated mapping of terrain etc.\n",
    "Robb, C., Willis, I., Arnold, N., & Guðmundsson, S. (2015). A semi-automated method for mapping glacial geomorphology tested at Breiðamerkurjökull, Iceland. Remote Sensing of Environment. \n",
    "\n",
    "Ultimately, LSPs are usually some of the imput layers used by goverment agencies to site the regeneration of woodland, habitats etc. as well as model the outcome of government policies given changing land use. CEH and Welsh Gov's ERAMMP (https://erammp.wales/en) system and the internationally used LUCI modelhttps://www.lucitools.org/ are good examples of this. \n",
    "\n",
    "\n",
    "The software lib used here (though several others do the same things) is whitebox tools, written in rust with a python API.\n",
    "\n",
    "Install:\n",
    "\n",
    "```conda install -c conda-forge whitebox_tools ```\n",
    "\n",
    "A LiDAR-derived DTM has been obtained from Wels-gov's repo for this purpose.\n",
    "\n",
    "The data is as ever available here:\n",
    "\n",
    "https://drive.google.com/file/d/17_TqgVnBHWltwrMkf5qkyIWv_yqD-X3x/view?usp=sharing\n",
    "\n",
    "Save it an appropriate place then change to this directory. \n",
    "\n",
    "Please use QGIS to visualise these parameters as this is far more versitile than matplotlib. \n",
    "Viewed as a hillshade, the DTM should look like this. \n",
    "\n",
    "<img src=\"Figures/dem.png\" style=\"height:500px\">"
   ]
  },
  {
   "cell_type": "code",
   "execution_count": null,
   "metadata": {},
   "outputs": [],
   "source": [
    "from WBT.whitebox_tools import WhiteboxTools as wbt\n",
    "\n",
    "import os\n",
    "\n",
    "os.chdir(\"insert working dir here\")\n",
    "\n",
    "wbt = WhiteboxTools()\n",
    "\n",
    "wrkDir = os.getcwd()\n",
    "\n",
    "inRas = \"dem.tif\""
   ]
  },
  {
   "cell_type": "markdown",
   "metadata": {},
   "source": [
    "### Hydrology\n",
    "\n",
    "We will go through typical flow accumulation workflow and extract a stream network.\n",
    "\n",
    "First, we fill any holes in the DEM surface itself"
   ]
  },
  {
   "cell_type": "code",
   "execution_count": null,
   "metadata": {},
   "outputs": [],
   "source": [
    "wbt.fill_missing_data(i=inRas, output=\"filled.tif\", filter=11)"
   ]
  },
  {
   "cell_type": "markdown",
   "metadata": {},
   "source": [
    "Next, we breach any depressions in the DEM that will result in artefacts in the flow accumulation raster.\n",
    "The differences may seem fairly imperceptable from the original DTM, but will have a positive effect on the end result.  "
   ]
  },
  {
   "cell_type": "code",
   "execution_count": null,
   "metadata": {},
   "outputs": [],
   "source": [
    "wbt.breach_depressions(em=\"filled.tif\", output=\"enforced.tif\")\n"
   ]
  },
  {
   "cell_type": "markdown",
   "metadata": {},
   "source": [
    "Finally, we produce a flow accumulation raster, which, as the name suggests, models flow accross the surface. This uses the D-Infinity algorithm of Tarbuton (1997), which attempts to model partial divergence in flow.\n",
    "\n",
    "The ```log=True``` parameter makes this easier to visualise in GIS.  "
   ]
  },
  {
   "cell_type": "code",
   "execution_count": null,
   "metadata": {},
   "outputs": [],
   "source": [
    "wbt.d_inf_flow_accumulation(dem=\"enforced.tif\", output=\"Dinf_flow.tif\", log=True)\n",
    "\n",
    "#write an additional non-log for further analysis\n",
    "\n",
    "wbt.d_inf_flow_accumulation(dem=\"enforced.tif\", output=\"Dinf_flow_final.tif\", log=False)\n"
   ]
  },
  {
   "cell_type": "markdown",
   "metadata": {},
   "source": [
    "The results, using the log enhanced file will look something like this with judicious use of symbology.\n",
    "\n",
    "<img src=\"Figures/dinf.png\" style=\"height:500px\">\n",
    "\n",
    "Clearly this, as with all similar variants of flow accumulation does not perform so well in wider areas of modest topographic variability. Ways round this include simply smoothing the input DTM or use a coarser data source (SRTM or something - still smoothing this) having followed the same procedure. "
   ]
  },
  {
   "cell_type": "markdown",
   "metadata": {},
   "source": [
    "### Stream Network\n",
    "\n",
    "Having seen the breakdown, we will now run the stages in one, outputting a D8 flow accumulation raster.\n",
    "\n",
    "D-8* is a less complex (and pretty old) algorithm, but is still likely best for attemtpting to extract a stream network,to provide an approximation of the main lines of drainage. \n",
    "\n",
    "*D-8 only maps convergent flow over one pixel\n",
    "\n"
   ]
  },
  {
   "cell_type": "code",
   "execution_count": null,
   "metadata": {},
   "outputs": [],
   "source": [
    "\n",
    "wbt.flow_accumulation_full_workflow(\n",
    "    inRas, \n",
    "    \"smoothdem.tif\", \n",
    "    \"pntr.tif\", \n",
    "    \"flowaccum.tif\", \n",
    "    out_type=\"Specific Contributing Area\", \n",
    "    log=False, \n",
    "    clip=False, \n",
    "    esri_pntr=False, \n",
    ")"
   ]
  },
  {
   "cell_type": "markdown",
   "metadata": {},
   "source": [
    "Now these two commands will extract a polyline shapefile of the network.\n",
    "\n",
    "The critical parameter is the threshold (```7000```), which is a guess at the flow accumulation score that results in drainage as a stream network as interpreted by the user. This is not ideal, but a robust empirical solution is not available.  "
   ]
  },
  {
   "cell_type": "code",
   "execution_count": null,
   "metadata": {},
   "outputs": [],
   "source": [
    "wbt.extract_streams( \"flowaccum.tif\", \"streams.tif\", 7000, zero_background=False)\n",
    "\n",
    "wbt.raster_streams_to_vector( \"streams.tif\",  \"pntr.tif\", \"streams.shp\", esri_pntr=False)"
   ]
  },
  {
   "cell_type": "markdown",
   "metadata": {},
   "source": [
    "The network looks fairly sensible, but experimentation is required to get a better approximation. \n",
    "\n",
    "<img src=\"Figures/streams.png\" style=\"height:500px\">\n"
   ]
  },
  {
   "cell_type": "markdown",
   "metadata": {},
   "source": [
    "The distance above stream will give us a mini-catchment distance from which you could get a quick and dirty flood extent, though this is a GROSS SIMPLIFICATION. \n",
    "\n",
    "You would usually use a 2D hydraulic model to do this properly (e.g. lisflood, CCH_HE), but as a rough idea it is ok."
   ]
  },
  {
   "cell_type": "code",
   "execution_count": null,
   "metadata": {},
   "outputs": [],
   "source": [
    "wbt.elevation_above_stream(\"smoothdem.tif\",  \"streams.tif\", \"abovestrm.tif\")\n"
   ]
  },
  {
   "cell_type": "markdown",
   "metadata": {},
   "source": [
    "This will look something like...\n",
    "\n",
    "<img src=\"Figures/elstr.png\" style=\"height:500px\">\n",
    "\n",
    "Where darker blue is closer to the stream network.\n",
    "\n",
    "By thresholding this we can define an approximate flood plain for each polyline to a defined height."
   ]
  },
  {
   "cell_type": "markdown",
   "metadata": {},
   "source": [
    "#### Wetness\n",
    "\n",
    "A related LSP is the topographic wetness index.\n",
    "\n",
    "The index describes the propensity for a site to be saturated to the surface given its contributing area and local slope characteristics.\n",
    "\n",
    "This requires the DEM gradient to be calculated first as an input variable. "
   ]
  },
  {
   "cell_type": "code",
   "execution_count": null,
   "metadata": {},
   "outputs": [],
   "source": [
    "wbt.slope(\"enforced.tif\", \"slope.tif\")\n",
    "\n",
    "wbt.wetness_index(\"flow_accum.tif\", \"slope.tif\", \"twi.tif\")"
   ]
  },
  {
   "cell_type": "markdown",
   "metadata": {},
   "source": [
    "With similar visualisation settings the twi looks as follows:\n",
    "\n",
    "<img src=\"Figures/twi.png\" style=\"height:500px\">\n",
    "\n",
    "It is notable that both these hydro-LSPs suffer from artifacts caused by the filtering process applied to the LiDAR point cloud and resulting interpolation over sparse ground returns. \n",
    "\n",
    "e.g.\n",
    "\n",
    "<img src=\"Figures/junk.png\" style=\"height:200px\">\n"
   ]
  },
  {
   "cell_type": "markdown",
   "metadata": {},
   "source": [
    "### Relative height\n",
    "\n",
    "Representing relative height (peaks and troughs) is another useful variable. \n",
    "The elevation percentile filter derives a good representation of relative elevation, normalised to 0 > 100. By increasing the window size, depressions and ridges of increasing size are accentuated.\n",
    "\n",
    "Every pixel is 5x5m so a window of 5 equates to 25m.\n",
    "\n"
   ]
  },
  {
   "cell_type": "code",
   "execution_count": null,
   "metadata": {},
   "outputs": [],
   "source": [
    "wbt.elev_percentile(\"enforced.tif\", \"elper5.tif\", filterx=5, filtery=5, sig_digits=2)\n",
    "\n",
    "wbt.elev_percentile(\"enforced.tif\", \"elper5.tif\", filterx=20, filtery=20, sig_digits=2)"
   ]
  },
  {
   "cell_type": "markdown",
   "metadata": {},
   "source": [
    "Thus window 5:\n",
    "\n",
    "<img src=\"Figures/elper5.png\" style=\"height:500px\">\n",
    "\n",
    "window 20:\n",
    "\n",
    "<img src=\"Figures/elper20.png\" style=\"height:500px\">"
   ]
  }
 ],
 "metadata": {
  "kernelspec": {
   "display_name": "Python [conda env:whitebox]",
   "language": "python",
   "name": "conda-env-whitebox-py"
  },
  "language_info": {
   "codemirror_mode": {
    "name": "ipython",
    "version": 3
   },
   "file_extension": ".py",
   "mimetype": "text/x-python",
   "name": "python",
   "nbconvert_exporter": "python",
   "pygments_lexer": "ipython3",
   "version": "3.6.11"
  }
 },
 "nbformat": 4,
 "nbformat_minor": 4
}
